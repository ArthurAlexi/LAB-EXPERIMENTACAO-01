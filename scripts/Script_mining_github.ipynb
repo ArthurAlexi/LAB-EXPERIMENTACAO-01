{
  "nbformat": 4,
  "nbformat_minor": 0,
  "metadata": {
    "colab": {
      "provenance": [],
      "collapsed_sections": [
        "vHRAzYVORhs2",
        "fheGHNTcUr3v"
      ]
    },
    "kernelspec": {
      "name": "python3",
      "display_name": "Python 3"
    },
    "language_info": {
      "name": "python"
    }
  },
  "cells": [
    {
      "cell_type": "markdown",
      "source": [
        "# Setup"
      ],
      "metadata": {
        "id": "5gwj2E83RaUT"
      }
    },
    {
      "cell_type": "markdown",
      "source": [
        "## Importações"
      ],
      "metadata": {
        "id": "4rkVXLqsRdA5"
      }
    },
    {
      "cell_type": "code",
      "execution_count": null,
      "metadata": {
        "id": "9bWAgGNcKCiR"
      },
      "outputs": [],
      "source": [
        "import requests as req\n",
        "import pandas as pd\n",
        "import json\n",
        "from datetime import datetime\n",
        "from google.colab import userdata\n",
        "import matplotlib.pyplot as plt"
      ]
    },
    {
      "cell_type": "markdown",
      "source": [
        "## Constantes"
      ],
      "metadata": {
        "id": "vHRAzYVORhs2"
      }
    },
    {
      "cell_type": "code",
      "source": [
        "DOMAIN = 'https://api.github.com/graphql'\n",
        "TOKEN = userdata.get('token')\n",
        "HEADERS = {\n",
        "  'Authorization': f'bearer {TOKEN}',\n",
        "  'Content-Type': 'application/json'\n",
        "}\n",
        "TODAY = datetime.now()\n",
        "NUMBER_OF_REPOSITORIES=1000"
      ],
      "metadata": {
        "id": "_8nfqzOpWdsH"
      },
      "execution_count": null,
      "outputs": []
    },
    {
      "cell_type": "markdown",
      "source": [
        "## Funções"
      ],
      "metadata": {
        "id": "Db8LE0A-Mk_s"
      }
    },
    {
      "cell_type": "code",
      "source": [
        "def doPost(data : json)-> json:\n",
        "  response = req.post(DOMAIN, headers=HEADERS, json=data)\n",
        "  if response.status_code == 200:\n",
        "    return response.json()\n",
        "\n",
        "  raise Exception(f'Erro ao fazer requisição: {response.status_code} \\n {response.text}')\n",
        "\n",
        "def analisar_createdAt(repositorios):\n",
        "  data_frame = pd.DataFrame(repositories)\n",
        "  created_dates = [datetime.strptime(date, '%Y-%m-%dT%H:%M:%SZ') for date in data_frame['createdAt']]\n",
        "  age_years = [round((TODAY - date).days / 365, 2) for date in created_dates]\n",
        "  return age_years\n",
        "  # data_frame['Age (Years)'] = age_years\n",
        "  # return  data_frame\n",
        "\n",
        "def tratar_updateAt(repositories):\n",
        "  data_frame = pd.DataFrame(repositories)\n",
        "  updated_dates = [datetime.strptime(date, '%Y-%m-%dT%H:%M:%SZ') for date in data_frame['updatedAt']]\n",
        "  days = [round((TODAY - date).days, 2) for date in updated_dates]\n",
        "  return [0 if day == -1 else day for day in days]\n",
        "\n",
        "\n",
        "def analisar_issues_fechadas(repositorios):\n",
        "    lista = []\n",
        "    for repo in repositorios:\n",
        "        total_issues = repo.get('issues', {}).get('totalCount', 0)\n",
        "        total_issues_fechadas = repo.get('closedIssues', {}).get('totalCount', 0)  # Acessar 'totalCount' em vez de 'updatedAt'\n",
        "        percentual_issues_fechadas = (total_issues_fechadas / total_issues) * 100 if total_issues > 0 else 0\n",
        "        lista.append(round(percentual_issues_fechadas, 2))\n",
        "    return lista\n",
        "\n",
        "def plotar_boxplot(df, coluna: str, titulo: str)-> None:\n",
        "    plt.figure(figsize=(6, 3))\n",
        "    plt.boxplot(df[coluna], vert=False)\n",
        "    plt.title(titulo)\n",
        "    plt.show()\n",
        "\n",
        "def plotar_violinplot(df, coluna: str, titulo: str)-> None:\n",
        "    plt.figure(figsize=(6, 3))\n",
        "    plt.violinplot(df[coluna], vert=False)\n",
        "    plt.xlabel(coluna)\n",
        "    plt.title(titulo)\n",
        "    plt.show()\n",
        "\n",
        "def plotar_grafico_dispersao(df, coluna_x: str, coluna_y: str, label_x=None, label_y=None):\n",
        "    if label_x is None:\n",
        "        label_x = coluna_x\n",
        "\n",
        "    if label_y is None:\n",
        "        label_y = coluna_y\n",
        "\n",
        "    plt.figure(figsize=(10, 4))\n",
        "    plt.scatter(df[coluna_x], df[coluna_y])\n",
        "    plt.xlabel(label_x)\n",
        "    plt.ylabel(label_y)\n",
        "    plt.title('Gráfico de Dispersão')\n",
        "    plt.grid(True)\n",
        "    plt.show()"
      ],
      "metadata": {
        "id": "ucuYNRkFMotY"
      },
      "execution_count": null,
      "outputs": []
    },
    {
      "cell_type": "markdown",
      "source": [
        "## Query Geral"
      ],
      "metadata": {
        "id": "luId2NnCgNSv"
      }
    },
    {
      "cell_type": "code",
      "source": [
        "query_template = \"\"\"\n",
        "query search_repositories($queryString: String!, $perPage: Int!, $cursor: String) {\n",
        "  search(query: $queryString type: REPOSITORY, first: $perPage, after: $cursor) {\n",
        "    repositoryCount\n",
        "    edges {\n",
        "      node {\n",
        "        ... on Repository {\n",
        "          nameWithOwner\n",
        "          updatedAt\n",
        "          createdAt\n",
        "          releases {\n",
        "            totalCount\n",
        "          }\n",
        "          issues {\n",
        "            totalCount\n",
        "          }\n",
        "          closedIssues: issues(states: CLOSED) {\n",
        "            totalCount\n",
        "          }\n",
        "          openIssues: issues(states: OPEN) {\n",
        "            totalCount\n",
        "          }\n",
        "          primaryLanguage {\n",
        "            name\n",
        "          }\n",
        "          stargazers {\n",
        "            totalCount\n",
        "          }\n",
        "          pullRequests(states: MERGED) {\n",
        "            totalCount\n",
        "          }\n",
        "        }\n",
        "      }\n",
        "    }\n",
        "    pageInfo {\n",
        "      endCursor\n",
        "      hasNextPage\n",
        "    }\n",
        "  }\n",
        "}\n",
        "\"\"\"\n",
        "\n",
        "\n",
        "per_page = 20\n",
        "cursor = None\n",
        "query_string = \"stars:>{0}\".format(NUMBER_OF_REPOSITORIES)\n",
        "repositories = []\n",
        "\n",
        "while len(repositories) < NUMBER_OF_REPOSITORIES:\n",
        "    variables = {\n",
        "        \"queryString\": query_string,\n",
        "        \"perPage\": per_page,\n",
        "        \"cursor\": cursor\n",
        "    }\n",
        "    data = doPost(data={'query': query_template, 'variables': variables})\n",
        "\n",
        "    if 'errors' in data:\n",
        "        print(\"GraphQL query failed:\", data['errors'])\n",
        "        break\n",
        "\n",
        "    for edge in data['data']['search']['edges']:\n",
        "        repositories.append(edge['node'])\n",
        "\n",
        "    if data['data']['search']['pageInfo']['hasNextPage']:\n",
        "        cursor = data['data']['search']['pageInfo']['endCursor']\n",
        "    else:\n",
        "        break\n",
        "\n",
        "print(\"Total repositories: \", len(repositories))\n",
        "print(\"Cursor: \", cursor)\n",
        "print(\"Per page: \", per_page)\n",
        "\n",
        "# data_brutus = pd.DataFrame(repositories)\n",
        "# data_brutus.to_csv('dados_base.csv', index=False, sep=';')"
      ],
      "metadata": {
        "id": "o8lQ3IQWgL0g"
      },
      "execution_count": null,
      "outputs": []
    },
    {
      "cell_type": "markdown",
      "source": [
        "## Tratamento"
      ],
      "metadata": {
        "id": "Ev-odXJylDy8"
      }
    },
    {
      "cell_type": "code",
      "source": [
        "dataFrame_tratado = pd.DataFrame()\n",
        "dataFrame_tratado['Repositorio'] = [repo.get('nameWithOwner') for repo in repositories]\n",
        "dataFrame_tratado['Anos'] = analisar_createdAt(repositories)\n",
        "dataFrame_tratado['nº PullRequests'] = [repo.get('pullRequests', {}).get('totalCount', 0) if isinstance(repo, dict) else 0 for repo in repositories]\n",
        "dataFrame_tratado['nº Releases'] = [repo.get('releases').get('totalCount',0) if isinstance(repo, dict) else 0 for repo in repositories]\n",
        "dataFrame_tratado['Último Update (dd)'] = tratar_updateAt(repositories)\n",
        "dataFrame_tratado['Linguagem Mais Comum'] = [repo.get('primaryLanguage', {}).get('name', None) if (isinstance(repo, dict) and repo.get('primaryLanguage') is not None) else None for repo in repositories]\n",
        "dataFrame_tratado['Issues Fechadas ( % )'] = analisar_issues_fechadas(repositories)\n",
        "dataFrame_tratado['Estrelas'] = [repo.get('stargazers', {}).get('totalCount', 0) if isinstance(repo, dict) else 0 for repo in repositories]\n",
        "\n",
        "dataFrame_tratado.head()"
      ],
      "metadata": {
        "id": "chbS2uO4asYz"
      },
      "execution_count": null,
      "outputs": []
    },
    {
      "cell_type": "code",
      "source": [
        "# dataFrame_tratado.to_csv('dados_tratados.csv', index=False, sep=';')"
      ],
      "metadata": {
        "id": "lcaYsEaOMb7w"
      },
      "execution_count": null,
      "outputs": []
    },
    {
      "cell_type": "markdown",
      "source": [
        "# Hipóteses Informais:"
      ],
      "metadata": {
        "id": "fheGHNTcUr3v"
      }
    },
    {
      "cell_type": "markdown",
      "source": [
        "### RQ 01: Sistemas populares são maduros/antigos?\n",
        "\n",
        "<strong>Hipótese informal:</strong> Sistemas populares tendem a ser mais antigos, uma vez que a maturidade e a popularidade geralmente exigem tempo para se desenvolverem.\n",
        "\n",
        "### RQ 02: Sistemas populares recebem muita contribuição externa?\n",
        "\n",
        "<strong>Hipótese informal:</strong> Sistemas populares geralmente recebem uma quantidade significativa de contribuições externas, pois a popularidade tende a atrair uma comunidade maior de desenvolvedores interessados em colaborar. Porém, nem todas as contribuições são aceitas.\n",
        "\n",
        "### RQ 03: Sistemas populares lançam releases com frequência?\n",
        "\n",
        "<strong>Hipótese informal:</strong> Sistemas populares tendem a lançar releases com frequência, já que uma comunidade ativa muitas vezes busca novas funcionalidades e correções de bugs regularmente.\n",
        "\n",
        "### RQ 04: Sistemas populares são atualizados com frequência?\n",
        "\n",
        "<strong>Hipótese informal:</strong> Sistemas populares são frequentemente atualizados, pois a manutenção contínua é necessária para sustentar sua popularidade e atender às demandas da comunidade.\n",
        "\n",
        "### RQ 05: Sistemas populares são escritos nas linguagens mais populares?\n",
        "\n",
        "<strong>Hipótese informal:</strong> Sistemas populares têm uma tendência a serem escritos nas linguagens de programação mais populares, uma vez que isso pode aumentar sua acessibilidade e atratividade para uma base de desenvolvedores mais ampla.\n",
        "\n",
        "### RQ 06: Sistemas populares possuem um alto percentual de issues fechadas?\n",
        "\n",
        "<strong>Hipótese informal:</strong> Sistemas populares tendem a ter um alto percentual de issues fechadas. Por dois fatores: esses sistemas possuem comunidade maior que  geralmente implica em uma capacidade maior de resolver problemas e responder às necessidades dos usuários. E o outro fator é devido a complexidade e tamanho do sistema, tornando-se comum ter bugs e issues sendo fechadas."
      ],
      "metadata": {
        "id": "TlOC_QmGU3fL"
      }
    },
    {
      "cell_type": "markdown",
      "source": [
        "# Análises"
      ],
      "metadata": {
        "id": "-YMrBIAegpJv"
      }
    },
    {
      "cell_type": "code",
      "source": [
        "dados = pd.read_csv('dados_tratados.csv', sep=';', index_col=False)\n",
        "dados['Linguagem Mais Comum'].fillna('Outros', inplace=True)\n",
        "# dados.head()\n",
        "dados.columns"
      ],
      "metadata": {
        "id": "ep6LGouoajvd"
      },
      "execution_count": null,
      "outputs": []
    },
    {
      "cell_type": "markdown",
      "source": [
        "## RQ 01: Sistemas populares são maduros/antigos?\n",
        "### Métrica: idade do repositório (calculado a partir da data de sua criação)"
      ],
      "metadata": {
        "id": "mtIqc7HWVcRA"
      }
    },
    {
      "cell_type": "code",
      "source": [
        "media_idades = dados['Anos'].mean()\n",
        "media_idades"
      ],
      "metadata": {
        "id": "iDvtrUBXVbMg"
      },
      "execution_count": null,
      "outputs": []
    },
    {
      "cell_type": "code",
      "source": [
        "plotar_violinplot(dados, 'Anos', 'Idades')"
      ],
      "metadata": {
        "id": "rUtZBCom89ZJ"
      },
      "execution_count": null,
      "outputs": []
    },
    {
      "cell_type": "code",
      "source": [
        "plotar_boxplot(dados, 'Anos', 'Idades')"
      ],
      "metadata": {
        "id": "hMq5ixP68ZyO"
      },
      "execution_count": null,
      "outputs": []
    },
    {
      "cell_type": "code",
      "source": [
        "plotar_grafico_dispersao(dados, 'Anos', 'Estrelas', 'Idade', 'Total de Estrelas')"
      ],
      "metadata": {
        "id": "_70Ae5ydnJpZ"
      },
      "execution_count": null,
      "outputs": []
    },
    {
      "cell_type": "markdown",
      "source": [
        "## RQ 02: Sistemas populares recebem muita contribuição externa?\n",
        "### Métrica: total de pull requests aceitas"
      ],
      "metadata": {
        "id": "NPd7gtgNmNqN"
      }
    },
    {
      "cell_type": "code",
      "source": [
        "plotar_violinplot(dados, 'nº PullRequests', 'nº PullRequests aceitas')"
      ],
      "metadata": {
        "id": "S-34n2jbPVEo"
      },
      "execution_count": null,
      "outputs": []
    },
    {
      "cell_type": "code",
      "source": [
        "plotar_grafico_dispersao(dados, 'nº PullRequests', 'Estrelas', 'nº PullRequests', 'Total de Estrelas')"
      ],
      "metadata": {
        "id": "cOk6IypBvakq"
      },
      "execution_count": null,
      "outputs": []
    },
    {
      "cell_type": "markdown",
      "source": [
        "## RQ 03: Sistemas populares lançam releases com frequência?\n",
        "### Métrica: total de releases"
      ],
      "metadata": {
        "id": "C3wgf5EZ05Jv"
      }
    },
    {
      "cell_type": "code",
      "source": [
        "media_releases = dados['nº Releases'].mean()\n",
        "total_zeros = (dados['nº Releases'] == 0).sum()\n",
        "\n",
        "print(f'media: {media_releases} :  total de zeros: {total_zeros} ')"
      ],
      "metadata": {
        "id": "APDoCDz11B3V"
      },
      "execution_count": null,
      "outputs": []
    },
    {
      "cell_type": "code",
      "source": [
        "plotar_violinplot(dados, 'nº Releases', 'nº Releases')"
      ],
      "metadata": {
        "id": "f3F4YmgxPZFR"
      },
      "execution_count": null,
      "outputs": []
    },
    {
      "cell_type": "code",
      "source": [
        "plotar_grafico_dispersao(dados, 'nº Releases', 'Estrelas', 'nº Releases', 'Total de Estrelas')"
      ],
      "metadata": {
        "id": "kQmoXIdI1Hd2"
      },
      "execution_count": null,
      "outputs": []
    },
    {
      "cell_type": "markdown",
      "source": [
        "## RQ 04: Sistemas populares são atualizados com frequência?\n",
        "### Métrica: tempo até a última atualização (calculado a partir da data de última atualização)"
      ],
      "metadata": {
        "id": "_5o9hDDWPbci"
      }
    },
    {
      "cell_type": "code",
      "source": [
        "dados['Último Update (dd)'].mean()"
      ],
      "metadata": {
        "id": "bEbMOy12BTfC"
      },
      "execution_count": null,
      "outputs": []
    },
    {
      "cell_type": "code",
      "source": [
        "plotar_violinplot(dados, 'Último Update (dd)', 'Último Update (dd)')"
      ],
      "metadata": {
        "id": "kZ6e6OghPbci"
      },
      "execution_count": null,
      "outputs": []
    },
    {
      "cell_type": "code",
      "source": [
        "plotar_grafico_dispersao(dados, 'Último Update (dd)', 'Estrelas')"
      ],
      "metadata": {
        "id": "9u8LfGe2BiP1"
      },
      "execution_count": null,
      "outputs": []
    },
    {
      "cell_type": "markdown",
      "source": [
        "## RQ 05: Sistemas populares são escritos nas <a href='https://octoverse.github.com/'>linguagens mais populares</a>?\n",
        "\n",
        "### Métrica: linguagem primária de cada um desses repositórios"
      ],
      "metadata": {
        "id": "6nnuvJ5RP8Z1"
      }
    },
    {
      "cell_type": "code",
      "source": [
        "def plotar_grafico_barras(df):\n",
        "\n",
        "        contagem_linguagens = df['Linguagem Mais Comum'].value_counts()\n",
        "\n",
        "        plt.figure(figsize=(12, 6))\n",
        "        contagem_linguagens.plot(kind='bar')\n",
        "        plt.xlabel('Linguagens')\n",
        "        plt.ylabel('Contagem')\n",
        "        plt.title('Linguagens Mais Comuns')\n",
        "        plt.grid(True)\n",
        "        plt.show()\n",
        "\n",
        "plotar_grafico_barras(dados)"
      ],
      "metadata": {
        "id": "EenTsnKGP8aA"
      },
      "execution_count": null,
      "outputs": []
    },
    {
      "cell_type": "code",
      "source": [
        "def teste(df):\n",
        "    plt.figure(figsize=(16, 6))\n",
        "    plt.scatter(df['Linguagem Mais Comum'], df['Estrelas'])\n",
        "    plt.xlabel('Linguagem Mais Comum')\n",
        "    plt.ylabel('Total de Estrelas')\n",
        "    plt.title('Gráfico de Dispersão: Linguagem Mais Comum vs Total de Estrelas')\n",
        "    plt.xticks(rotation=90)\n",
        "    plt.grid(True)\n",
        "    plt.show()\n",
        "teste(dados)\n"
      ],
      "metadata": {
        "id": "vXwnNe7THXLA"
      },
      "execution_count": null,
      "outputs": []
    },
    {
      "cell_type": "markdown",
      "source": [
        "## RQ 06: Sistemas populares possuem um alto percentual de issues fechadas?\n",
        "### Métrica: Métrica: razão entre número de issues fechadas pelo total de issues)"
      ],
      "metadata": {
        "id": "eal-oKeTP8oa"
      }
    },
    {
      "cell_type": "code",
      "source": [
        "dados['Issues Fechadas ( % )'].mean()"
      ],
      "metadata": {
        "id": "uDmK3phouvif"
      },
      "execution_count": null,
      "outputs": []
    },
    {
      "cell_type": "code",
      "source": [
        "plotar_violinplot(dados, 'Issues Fechadas ( % )', titulo='Issues Fechadas ( % )')"
      ],
      "metadata": {
        "id": "i_z-rIIoLwvr"
      },
      "execution_count": null,
      "outputs": []
    },
    {
      "cell_type": "code",
      "source": [
        "plotar_grafico_dispersao(dados, 'Issues Fechadas ( % )', 'Estrelas')"
      ],
      "metadata": {
        "id": "7Xwk_sWoMFH4"
      },
      "execution_count": null,
      "outputs": []
    }
  ]
}