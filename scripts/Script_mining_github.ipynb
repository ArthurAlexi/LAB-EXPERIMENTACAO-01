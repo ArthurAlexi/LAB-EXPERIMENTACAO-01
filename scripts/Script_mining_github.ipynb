{
  "nbformat": 4,
  "nbformat_minor": 0,
  "metadata": {
    "colab": {
      "provenance": [],
      "collapsed_sections": [
        "4rkVXLqsRdA5",
        "vHRAzYVORhs2",
        "Db8LE0A-Mk_s",
        "-YMrBIAegpJv",
        "mtIqc7HWVcRA",
        "NPd7gtgNmNqN",
        "_5o9hDDWPbci",
        "6nnuvJ5RP8Z1"
      ]
    },
    "kernelspec": {
      "name": "python3",
      "display_name": "Python 3"
    },
    "language_info": {
      "name": "python"
    }
  },
  "cells": [
    {
      "cell_type": "markdown",
      "source": [
        "# Setup"
      ],
      "metadata": {
        "id": "5gwj2E83RaUT"
      }
    },
    {
      "cell_type": "markdown",
      "source": [
        "## Importações"
      ],
      "metadata": {
        "id": "4rkVXLqsRdA5"
      }
    },
    {
      "cell_type": "code",
      "execution_count": 1,
      "metadata": {
        "id": "9bWAgGNcKCiR"
      },
      "outputs": [],
      "source": [
        "import requests as req\n",
        "import pandas as pd\n",
        "import json\n",
        "from datetime import datetime\n",
        "from google.colab import userdata"
      ]
    },
    {
      "cell_type": "markdown",
      "source": [
        "## Constantes"
      ],
      "metadata": {
        "id": "vHRAzYVORhs2"
      }
    },
    {
      "cell_type": "code",
      "source": [
        "DOMAIN = 'https://api.github.com/graphql'\n",
        "TOKEN = userdata.get('token')\n",
        "HEADERS = {\n",
        "  'Authorization': f'bearer {TOKEN}',\n",
        "  'Content-Type': 'application/json'\n",
        "}\n",
        "TODAY = datetime.now()\n",
        "NUMBER_OF_REPOSITORIES=1000"
      ],
      "metadata": {
        "id": "_8nfqzOpWdsH"
      },
      "execution_count": 2,
      "outputs": []
    },
    {
      "cell_type": "markdown",
      "source": [
        "## Funções"
      ],
      "metadata": {
        "id": "Db8LE0A-Mk_s"
      }
    },
    {
      "cell_type": "code",
      "source": [
        "def doPost(data : json)-> json:\n",
        "  response = req.post(DOMAIN, headers=HEADERS, json=data)\n",
        "  if response.status_code == 200:\n",
        "    return response.json()\n",
        "\n",
        "  raise Exception(f'Erro ao fazer requisição: {response.status_code} \\n {response.text}')\n",
        "\n",
        "def analisar_createdAt(repositorios):\n",
        "  data_frame = pd.DataFrame(repositories)\n",
        "  created_dates = [datetime.strptime(date, '%Y-%m-%dT%H:%M:%SZ') for date in data_frame['createdAt']]\n",
        "  age_years = [round((TODAY - date).days / 365, 2) for date in created_dates]\n",
        "  return age_years\n",
        "  # data_frame['Age (Years)'] = age_years\n",
        "  # return  data_frame\n",
        "\n",
        "def tratar_updateAt(repositories):\n",
        "  data_frame = pd.DataFrame(repositories)\n",
        "  updated_dates = [datetime.strptime(date, '%Y-%m-%dT%H:%M:%SZ') for date in data_frame['createdAt']]\n",
        "  days = [round((TODAY - date).days, 2) for date in updated_dates]\n",
        "  return days\n",
        "\n",
        "def analisar_issues_fechadas(repositorios):\n",
        "    lista = []\n",
        "    for repo in repositorios:\n",
        "        total_issues = repo.get('issues', {}).get('totalCount', 0)\n",
        "        total_issues_fechadas = repo.get('closedIssues', {}).get('totalCount', 0)\n",
        "        percentual_issues_fechadas = (total_issues_fechadas / total_issues) * 100 if total_issues > 0 else 0\n",
        "        lista.append(round(percentual_issues_fechadas,2))\n",
        "\n",
        "    return lista\n"
      ],
      "metadata": {
        "id": "ucuYNRkFMotY"
      },
      "execution_count": 3,
      "outputs": []
    },
    {
      "cell_type": "markdown",
      "source": [
        "## Query Geral"
      ],
      "metadata": {
        "id": "luId2NnCgNSv"
      }
    },
    {
      "cell_type": "code",
      "source": [
        "query_template = \"\"\"\n",
        "query search_repositories($queryString: String!, $perPage: Int!, $cursor: String) {\n",
        "  search(query: $queryString type: REPOSITORY, first: $perPage, after: $cursor) {\n",
        "    repositoryCount\n",
        "    edges {\n",
        "      node {\n",
        "        ... on Repository {\n",
        "          nameWithOwner\n",
        "          updatedAt\n",
        "          createdAt\n",
        "          releases {\n",
        "            totalCount\n",
        "          }\n",
        "          issues {\n",
        "            totalCount\n",
        "          }\n",
        "          closedIssues: issues(states: CLOSED) {\n",
        "            totalCount\n",
        "          }\n",
        "          openIssues: issues(states: OPEN) {\n",
        "            totalCount\n",
        "          }\n",
        "          primaryLanguage {\n",
        "            name\n",
        "          }\n",
        "          pullRequests(states: MERGED) {\n",
        "            totalCount\n",
        "          }\n",
        "        }\n",
        "      }\n",
        "    }\n",
        "    pageInfo {\n",
        "      endCursor\n",
        "      hasNextPage\n",
        "    }\n",
        "  }\n",
        "}\n",
        "\"\"\"\n",
        "\n",
        "\n",
        "per_page = 20\n",
        "cursor = None\n",
        "query_string = \"stars:>{0}\".format(NUMBER_OF_REPOSITORIES)\n",
        "repositories = []\n",
        "\n",
        "while len(repositories) < NUMBER_OF_REPOSITORIES:\n",
        "    variables = {\n",
        "        \"queryString\": query_string,\n",
        "        \"perPage\": per_page,\n",
        "        \"cursor\": cursor\n",
        "    }\n",
        "    data = doPost(data={'query': query_template, 'variables': variables})\n",
        "\n",
        "    if 'errors' in data:\n",
        "        print(\"GraphQL query failed:\", data['errors'])\n",
        "        break\n",
        "\n",
        "    for edge in data['data']['search']['edges']:\n",
        "        repositories.append(edge['node'])\n",
        "\n",
        "    if data['data']['search']['pageInfo']['hasNextPage']:\n",
        "        cursor = data['data']['search']['pageInfo']['endCursor']\n",
        "    else:\n",
        "        break\n",
        "\n",
        "print(\"Total repositories: \", len(repositories))\n",
        "print(\"Cursor: \", cursor)\n",
        "print(\"Per page: \", per_page)\n",
        "\n",
        "# data_brutus = pd.DataFrame(repositories)\n",
        "# data_brutus.to_csv('dados_base.csv', index=False, sep=';')"
      ],
      "metadata": {
        "id": "o8lQ3IQWgL0g",
        "colab": {
          "base_uri": "https://localhost:8080/"
        },
        "outputId": "607f5466-a5af-41fb-cd37-df88e955f7e9"
      },
      "execution_count": 4,
      "outputs": [
        {
          "output_type": "stream",
          "name": "stdout",
          "text": [
            "Total repositories:  1000\n",
            "Cursor:  Y3Vyc29yOjk4MA==\n",
            "Per page:  20\n"
          ]
        }
      ]
    },
    {
      "cell_type": "markdown",
      "source": [
        "## Tratamento"
      ],
      "metadata": {
        "id": "Ev-odXJylDy8"
      }
    },
    {
      "cell_type": "code",
      "source": [
        "dataFrame_tratado = pd.DataFrame()\n",
        "dataFrame_tratado['Repositorio'] = [repo.get('nameWithOwner') for repo in repositories]\n",
        "dataFrame_tratado['Anos'] = analisar_createdAt(repositories)\n",
        "dataFrame_tratado['nº PullRequests'] = [repo.get('pullRequests', {}).get('totalCount', 0) if isinstance(repo, dict) else 0 for repo in repositories]\n",
        "dataFrame_tratado['nº Releases'] = [repo.get('releases').get('totalCount',0) if isinstance(repo, dict) else 0 for repo in repositories]\n",
        "dataFrame_tratado['Último Update (dd)'] = tratar_updateAt(repositories)\n",
        "dataFrame_tratado['Linguagem Mais Comum'] = [repo.get('primaryLanguage', {}).get('name', None) if (isinstance(repo, dict) and repo.get('primaryLanguage') is not None) else None for repo in repositories]\n",
        "dataFrame_tratado['Issues Fechadas ( % )'] = analisar_issues_fechadas(repositories)\n",
        "\n",
        "dataFrame_tratado.head()"
      ],
      "metadata": {
        "id": "chbS2uO4asYz",
        "colab": {
          "base_uri": "https://localhost:8080/",
          "height": 206
        },
        "outputId": "caa2c8f6-96de-4ba9-f873-464b530fbc20"
      },
      "execution_count": 5,
      "outputs": [
        {
          "output_type": "execute_result",
          "data": {
            "text/plain": [
              "                              Repositorio   Anos  nº PullRequests  \\\n",
              "0               freeCodeCamp/freeCodeCamp   9.19            21806   \n",
              "1  EbookFoundation/free-programming-books  10.40             6433   \n",
              "2                    sindresorhus/awesome   9.65              641   \n",
              "3                 public-apis/public-apis   7.95             1871   \n",
              "4     jwasham/coding-interview-university   7.74              395   \n",
              "\n",
              "   nº Releases  Último Update (dd) Linguagem Mais Comum  Issues Fechadas ( % )  \n",
              "0            0                3355           TypeScript                  98.48  \n",
              "1            0                3795                 None                  97.74  \n",
              "2            0                3522                 None                  93.41  \n",
              "3            0                2903               Python                  98.20  \n",
              "4            0                2826                 None                  89.13  "
            ],
            "text/html": [
              "\n",
              "  <div id=\"df-5c137ddd-be5e-4b13-a07d-f9e1df342fdb\" class=\"colab-df-container\">\n",
              "    <div>\n",
              "<style scoped>\n",
              "    .dataframe tbody tr th:only-of-type {\n",
              "        vertical-align: middle;\n",
              "    }\n",
              "\n",
              "    .dataframe tbody tr th {\n",
              "        vertical-align: top;\n",
              "    }\n",
              "\n",
              "    .dataframe thead th {\n",
              "        text-align: right;\n",
              "    }\n",
              "</style>\n",
              "<table border=\"1\" class=\"dataframe\">\n",
              "  <thead>\n",
              "    <tr style=\"text-align: right;\">\n",
              "      <th></th>\n",
              "      <th>Repositorio</th>\n",
              "      <th>Anos</th>\n",
              "      <th>nº PullRequests</th>\n",
              "      <th>nº Releases</th>\n",
              "      <th>Último Update (dd)</th>\n",
              "      <th>Linguagem Mais Comum</th>\n",
              "      <th>Issues Fechadas ( % )</th>\n",
              "    </tr>\n",
              "  </thead>\n",
              "  <tbody>\n",
              "    <tr>\n",
              "      <th>0</th>\n",
              "      <td>freeCodeCamp/freeCodeCamp</td>\n",
              "      <td>9.19</td>\n",
              "      <td>21806</td>\n",
              "      <td>0</td>\n",
              "      <td>3355</td>\n",
              "      <td>TypeScript</td>\n",
              "      <td>98.48</td>\n",
              "    </tr>\n",
              "    <tr>\n",
              "      <th>1</th>\n",
              "      <td>EbookFoundation/free-programming-books</td>\n",
              "      <td>10.40</td>\n",
              "      <td>6433</td>\n",
              "      <td>0</td>\n",
              "      <td>3795</td>\n",
              "      <td>None</td>\n",
              "      <td>97.74</td>\n",
              "    </tr>\n",
              "    <tr>\n",
              "      <th>2</th>\n",
              "      <td>sindresorhus/awesome</td>\n",
              "      <td>9.65</td>\n",
              "      <td>641</td>\n",
              "      <td>0</td>\n",
              "      <td>3522</td>\n",
              "      <td>None</td>\n",
              "      <td>93.41</td>\n",
              "    </tr>\n",
              "    <tr>\n",
              "      <th>3</th>\n",
              "      <td>public-apis/public-apis</td>\n",
              "      <td>7.95</td>\n",
              "      <td>1871</td>\n",
              "      <td>0</td>\n",
              "      <td>2903</td>\n",
              "      <td>Python</td>\n",
              "      <td>98.20</td>\n",
              "    </tr>\n",
              "    <tr>\n",
              "      <th>4</th>\n",
              "      <td>jwasham/coding-interview-university</td>\n",
              "      <td>7.74</td>\n",
              "      <td>395</td>\n",
              "      <td>0</td>\n",
              "      <td>2826</td>\n",
              "      <td>None</td>\n",
              "      <td>89.13</td>\n",
              "    </tr>\n",
              "  </tbody>\n",
              "</table>\n",
              "</div>\n",
              "    <div class=\"colab-df-buttons\">\n",
              "\n",
              "  <div class=\"colab-df-container\">\n",
              "    <button class=\"colab-df-convert\" onclick=\"convertToInteractive('df-5c137ddd-be5e-4b13-a07d-f9e1df342fdb')\"\n",
              "            title=\"Convert this dataframe to an interactive table.\"\n",
              "            style=\"display:none;\">\n",
              "\n",
              "  <svg xmlns=\"http://www.w3.org/2000/svg\" height=\"24px\" viewBox=\"0 -960 960 960\">\n",
              "    <path d=\"M120-120v-720h720v720H120Zm60-500h600v-160H180v160Zm220 220h160v-160H400v160Zm0 220h160v-160H400v160ZM180-400h160v-160H180v160Zm440 0h160v-160H620v160ZM180-180h160v-160H180v160Zm440 0h160v-160H620v160Z\"/>\n",
              "  </svg>\n",
              "    </button>\n",
              "\n",
              "  <style>\n",
              "    .colab-df-container {\n",
              "      display:flex;\n",
              "      gap: 12px;\n",
              "    }\n",
              "\n",
              "    .colab-df-convert {\n",
              "      background-color: #E8F0FE;\n",
              "      border: none;\n",
              "      border-radius: 50%;\n",
              "      cursor: pointer;\n",
              "      display: none;\n",
              "      fill: #1967D2;\n",
              "      height: 32px;\n",
              "      padding: 0 0 0 0;\n",
              "      width: 32px;\n",
              "    }\n",
              "\n",
              "    .colab-df-convert:hover {\n",
              "      background-color: #E2EBFA;\n",
              "      box-shadow: 0px 1px 2px rgba(60, 64, 67, 0.3), 0px 1px 3px 1px rgba(60, 64, 67, 0.15);\n",
              "      fill: #174EA6;\n",
              "    }\n",
              "\n",
              "    .colab-df-buttons div {\n",
              "      margin-bottom: 4px;\n",
              "    }\n",
              "\n",
              "    [theme=dark] .colab-df-convert {\n",
              "      background-color: #3B4455;\n",
              "      fill: #D2E3FC;\n",
              "    }\n",
              "\n",
              "    [theme=dark] .colab-df-convert:hover {\n",
              "      background-color: #434B5C;\n",
              "      box-shadow: 0px 1px 3px 1px rgba(0, 0, 0, 0.15);\n",
              "      filter: drop-shadow(0px 1px 2px rgba(0, 0, 0, 0.3));\n",
              "      fill: #FFFFFF;\n",
              "    }\n",
              "  </style>\n",
              "\n",
              "    <script>\n",
              "      const buttonEl =\n",
              "        document.querySelector('#df-5c137ddd-be5e-4b13-a07d-f9e1df342fdb button.colab-df-convert');\n",
              "      buttonEl.style.display =\n",
              "        google.colab.kernel.accessAllowed ? 'block' : 'none';\n",
              "\n",
              "      async function convertToInteractive(key) {\n",
              "        const element = document.querySelector('#df-5c137ddd-be5e-4b13-a07d-f9e1df342fdb');\n",
              "        const dataTable =\n",
              "          await google.colab.kernel.invokeFunction('convertToInteractive',\n",
              "                                                    [key], {});\n",
              "        if (!dataTable) return;\n",
              "\n",
              "        const docLinkHtml = 'Like what you see? Visit the ' +\n",
              "          '<a target=\"_blank\" href=https://colab.research.google.com/notebooks/data_table.ipynb>data table notebook</a>'\n",
              "          + ' to learn more about interactive tables.';\n",
              "        element.innerHTML = '';\n",
              "        dataTable['output_type'] = 'display_data';\n",
              "        await google.colab.output.renderOutput(dataTable, element);\n",
              "        const docLink = document.createElement('div');\n",
              "        docLink.innerHTML = docLinkHtml;\n",
              "        element.appendChild(docLink);\n",
              "      }\n",
              "    </script>\n",
              "  </div>\n",
              "\n",
              "\n",
              "<div id=\"df-5416c8ec-ce51-45bb-a18e-e17cf3e7792f\">\n",
              "  <button class=\"colab-df-quickchart\" onclick=\"quickchart('df-5416c8ec-ce51-45bb-a18e-e17cf3e7792f')\"\n",
              "            title=\"Suggest charts\"\n",
              "            style=\"display:none;\">\n",
              "\n",
              "<svg xmlns=\"http://www.w3.org/2000/svg\" height=\"24px\"viewBox=\"0 0 24 24\"\n",
              "     width=\"24px\">\n",
              "    <g>\n",
              "        <path d=\"M19 3H5c-1.1 0-2 .9-2 2v14c0 1.1.9 2 2 2h14c1.1 0 2-.9 2-2V5c0-1.1-.9-2-2-2zM9 17H7v-7h2v7zm4 0h-2V7h2v10zm4 0h-2v-4h2v4z\"/>\n",
              "    </g>\n",
              "</svg>\n",
              "  </button>\n",
              "\n",
              "<style>\n",
              "  .colab-df-quickchart {\n",
              "      --bg-color: #E8F0FE;\n",
              "      --fill-color: #1967D2;\n",
              "      --hover-bg-color: #E2EBFA;\n",
              "      --hover-fill-color: #174EA6;\n",
              "      --disabled-fill-color: #AAA;\n",
              "      --disabled-bg-color: #DDD;\n",
              "  }\n",
              "\n",
              "  [theme=dark] .colab-df-quickchart {\n",
              "      --bg-color: #3B4455;\n",
              "      --fill-color: #D2E3FC;\n",
              "      --hover-bg-color: #434B5C;\n",
              "      --hover-fill-color: #FFFFFF;\n",
              "      --disabled-bg-color: #3B4455;\n",
              "      --disabled-fill-color: #666;\n",
              "  }\n",
              "\n",
              "  .colab-df-quickchart {\n",
              "    background-color: var(--bg-color);\n",
              "    border: none;\n",
              "    border-radius: 50%;\n",
              "    cursor: pointer;\n",
              "    display: none;\n",
              "    fill: var(--fill-color);\n",
              "    height: 32px;\n",
              "    padding: 0;\n",
              "    width: 32px;\n",
              "  }\n",
              "\n",
              "  .colab-df-quickchart:hover {\n",
              "    background-color: var(--hover-bg-color);\n",
              "    box-shadow: 0 1px 2px rgba(60, 64, 67, 0.3), 0 1px 3px 1px rgba(60, 64, 67, 0.15);\n",
              "    fill: var(--button-hover-fill-color);\n",
              "  }\n",
              "\n",
              "  .colab-df-quickchart-complete:disabled,\n",
              "  .colab-df-quickchart-complete:disabled:hover {\n",
              "    background-color: var(--disabled-bg-color);\n",
              "    fill: var(--disabled-fill-color);\n",
              "    box-shadow: none;\n",
              "  }\n",
              "\n",
              "  .colab-df-spinner {\n",
              "    border: 2px solid var(--fill-color);\n",
              "    border-color: transparent;\n",
              "    border-bottom-color: var(--fill-color);\n",
              "    animation:\n",
              "      spin 1s steps(1) infinite;\n",
              "  }\n",
              "\n",
              "  @keyframes spin {\n",
              "    0% {\n",
              "      border-color: transparent;\n",
              "      border-bottom-color: var(--fill-color);\n",
              "      border-left-color: var(--fill-color);\n",
              "    }\n",
              "    20% {\n",
              "      border-color: transparent;\n",
              "      border-left-color: var(--fill-color);\n",
              "      border-top-color: var(--fill-color);\n",
              "    }\n",
              "    30% {\n",
              "      border-color: transparent;\n",
              "      border-left-color: var(--fill-color);\n",
              "      border-top-color: var(--fill-color);\n",
              "      border-right-color: var(--fill-color);\n",
              "    }\n",
              "    40% {\n",
              "      border-color: transparent;\n",
              "      border-right-color: var(--fill-color);\n",
              "      border-top-color: var(--fill-color);\n",
              "    }\n",
              "    60% {\n",
              "      border-color: transparent;\n",
              "      border-right-color: var(--fill-color);\n",
              "    }\n",
              "    80% {\n",
              "      border-color: transparent;\n",
              "      border-right-color: var(--fill-color);\n",
              "      border-bottom-color: var(--fill-color);\n",
              "    }\n",
              "    90% {\n",
              "      border-color: transparent;\n",
              "      border-bottom-color: var(--fill-color);\n",
              "    }\n",
              "  }\n",
              "</style>\n",
              "\n",
              "  <script>\n",
              "    async function quickchart(key) {\n",
              "      const quickchartButtonEl =\n",
              "        document.querySelector('#' + key + ' button');\n",
              "      quickchartButtonEl.disabled = true;  // To prevent multiple clicks.\n",
              "      quickchartButtonEl.classList.add('colab-df-spinner');\n",
              "      try {\n",
              "        const charts = await google.colab.kernel.invokeFunction(\n",
              "            'suggestCharts', [key], {});\n",
              "      } catch (error) {\n",
              "        console.error('Error during call to suggestCharts:', error);\n",
              "      }\n",
              "      quickchartButtonEl.classList.remove('colab-df-spinner');\n",
              "      quickchartButtonEl.classList.add('colab-df-quickchart-complete');\n",
              "    }\n",
              "    (() => {\n",
              "      let quickchartButtonEl =\n",
              "        document.querySelector('#df-5416c8ec-ce51-45bb-a18e-e17cf3e7792f button');\n",
              "      quickchartButtonEl.style.display =\n",
              "        google.colab.kernel.accessAllowed ? 'block' : 'none';\n",
              "    })();\n",
              "  </script>\n",
              "</div>\n",
              "\n",
              "    </div>\n",
              "  </div>\n"
            ],
            "application/vnd.google.colaboratory.intrinsic+json": {
              "type": "dataframe",
              "variable_name": "dataFrame_tratado",
              "summary": "{\n  \"name\": \"dataFrame_tratado\",\n  \"rows\": 1000,\n  \"fields\": [\n    {\n      \"column\": \"Repositorio\",\n      \"properties\": {\n        \"dtype\": \"string\",\n        \"num_unique_values\": 1000,\n        \"samples\": [\n          \"hankcs/HanLP\",\n          \"ageron/handson-ml2\",\n          \"Awesome-Windows/Awesome\"\n        ],\n        \"semantic_type\": \"\",\n        \"description\": \"\"\n      }\n    },\n    {\n      \"column\": \"Anos\",\n      \"properties\": {\n        \"dtype\": \"number\",\n        \"std\": 3.4200711739282177,\n        \"min\": 0.16,\n        \"max\": 15.9,\n        \"num_unique_values\": 693,\n        \"samples\": [\n          10.65,\n          5.38,\n          6.57\n        ],\n        \"semantic_type\": \"\",\n        \"description\": \"\"\n      }\n    },\n    {\n      \"column\": \"n\\u00ba PullRequests\",\n      \"properties\": {\n        \"dtype\": \"number\",\n        \"std\": 6909,\n        \"min\": 0,\n        \"max\": 68510,\n        \"num_unique_values\": 779,\n        \"samples\": [\n          68,\n          3783,\n          3531\n        ],\n        \"semantic_type\": \"\",\n        \"description\": \"\"\n      }\n    },\n    {\n      \"column\": \"n\\u00ba Releases\",\n      \"properties\": {\n        \"dtype\": \"number\",\n        \"std\": 157,\n        \"min\": 0,\n        \"max\": 1000,\n        \"num_unique_values\": 272,\n        \"samples\": [\n          357,\n          102,\n          9\n        ],\n        \"semantic_type\": \"\",\n        \"description\": \"\"\n      }\n    },\n    {\n      \"column\": \"\\u00daltimo Update (dd)\",\n      \"properties\": {\n        \"dtype\": \"number\",\n        \"std\": 1248,\n        \"min\": 60,\n        \"max\": 5804,\n        \"num_unique_values\": 891,\n        \"samples\": [\n          2209,\n          3263,\n          1970\n        ],\n        \"semantic_type\": \"\",\n        \"description\": \"\"\n      }\n    },\n    {\n      \"column\": \"Linguagem Mais Comum\",\n      \"properties\": {\n        \"dtype\": \"category\",\n        \"num_unique_values\": 44,\n        \"samples\": [\n          \"Haskell\",\n          \"Assembly\",\n          \"Ruby\"\n        ],\n        \"semantic_type\": \"\",\n        \"description\": \"\"\n      }\n    },\n    {\n      \"column\": \"Issues Fechadas ( % )\",\n      \"properties\": {\n        \"dtype\": \"number\",\n        \"std\": 25.923435564119334,\n        \"min\": 0.0,\n        \"max\": 100.0,\n        \"num_unique_values\": 839,\n        \"samples\": [\n          88.1,\n          84.54,\n          87.01\n        ],\n        \"semantic_type\": \"\",\n        \"description\": \"\"\n      }\n    }\n  ]\n}"
            }
          },
          "metadata": {},
          "execution_count": 5
        }
      ]
    },
    {
      "cell_type": "code",
      "source": [
        "# dataFrame_tratado.to_csv('dados_tratados.csv', index=False, sep=';')"
      ],
      "metadata": {
        "id": "lcaYsEaOMb7w"
      },
      "execution_count": 6,
      "outputs": []
    },
    {
      "cell_type": "markdown",
      "source": [
        "# Hipóteses Informais:"
      ],
      "metadata": {
        "id": "fheGHNTcUr3v"
      }
    },
    {
      "cell_type": "markdown",
      "source": [
        "### RQ 01: Sistemas populares são maduros/antigos?\n",
        "\n",
        "<strong>Hipótese informal:</strong> Sistemas populares tendem a ser mais antigos, uma vez que a maturidade e a popularidade geralmente exigem tempo para se desenvolverem.\n",
        "\n",
        "### RQ 02: Sistemas populares recebem muita contribuição externa?\n",
        "\n",
        "<strong>Hipótese informal:</strong> Sistemas populares geralmente recebem uma quantidade significativa de contribuições externas, pois a popularidade tende a atrair uma comunidade maior de desenvolvedores interessados em colaborar. Porém, nem todas as contribuições são aceitas.\n",
        "\n",
        "### RQ 03: Sistemas populares lançam releases com frequência?\n",
        "\n",
        "<strong>Hipótese informal:</strong> Sistemas populares tendem a lançar releases com frequência, já que uma comunidade ativa muitas vezes busca novas funcionalidades e correções de bugs regularmente.\n",
        "\n",
        "### RQ 04: Sistemas populares são atualizados com frequência?\n",
        "\n",
        "<strong>Hipótese informal:</strong> Sistemas populares são frequentemente atualizados, pois a manutenção contínua é necessária para sustentar sua popularidade e atender às demandas da comunidade.\n",
        "\n",
        "### RQ 05: Sistemas populares são escritos nas linguagens mais populares?\n",
        "\n",
        "<strong>Hipótese informal:</strong> Sistemas populares têm uma tendência a serem escritos nas linguagens de programação mais populares, uma vez que isso pode aumentar sua acessibilidade e atratividade para uma base de desenvolvedores mais ampla.\n",
        "\n",
        "### RQ 06: Sistemas populares possuem um alto percentual de issues fechadas?\n",
        "\n",
        "<strong>Hipótese informal:</strong> Sistemas populares tendem a ter um alto percentual de issues fechadas. Por dois fatores: esses sistemas possuem comunidade maior que  geralmente implica em uma capacidade maior de resolver problemas e responder às necessidades dos usuários. E o outro fator é devido a complexidade e tamanho do sistema, tornando-se comum ter bugs e issues sendo fechadas."
      ],
      "metadata": {
        "id": "TlOC_QmGU3fL"
      }
    },
    {
      "cell_type": "markdown",
      "source": [
        "# Análises"
      ],
      "metadata": {
        "id": "-YMrBIAegpJv"
      }
    },
    {
      "cell_type": "markdown",
      "source": [
        "## RQ 01: Sistemas populares são maduros/antigos?\n",
        "### Métrica: idade do repositório (calculado a partir da data de sua criação)"
      ],
      "metadata": {
        "id": "mtIqc7HWVcRA"
      }
    },
    {
      "cell_type": "code",
      "source": [],
      "metadata": {
        "id": "iDvtrUBXVbMg"
      },
      "execution_count": 6,
      "outputs": []
    },
    {
      "cell_type": "markdown",
      "source": [
        "## RQ 02: Sistemas populares recebem muita contribuição externa?\n",
        "### Métrica: total de pull requests aceitas"
      ],
      "metadata": {
        "id": "NPd7gtgNmNqN"
      }
    },
    {
      "cell_type": "code",
      "source": [],
      "metadata": {
        "id": "S-34n2jbPVEo"
      },
      "execution_count": 6,
      "outputs": []
    },
    {
      "cell_type": "markdown",
      "source": [
        "## RQ 03: Sistemas populares lançam releases com frequência?\n",
        "### Métrica: total de releases"
      ],
      "metadata": {
        "id": "_CJh72tAO39P"
      }
    },
    {
      "cell_type": "code",
      "source": [],
      "metadata": {
        "id": "f3F4YmgxPZFR"
      },
      "execution_count": 6,
      "outputs": []
    },
    {
      "cell_type": "markdown",
      "source": [
        "## RQ 04: Sistemas populares são atualizados com frequência?\n",
        "### Métrica: tempo até a última atualização (calculado a partir da data de última atualização)"
      ],
      "metadata": {
        "id": "_5o9hDDWPbci"
      }
    },
    {
      "cell_type": "code",
      "source": [],
      "metadata": {
        "id": "kZ6e6OghPbci"
      },
      "execution_count": 6,
      "outputs": []
    },
    {
      "cell_type": "markdown",
      "source": [
        "## RQ 05: Sistemas populares são escritos nas <a href='https://octoverse.github.com/'>linguagens mais populares</a>?\n",
        "\n",
        "### Métrica: linguagem primária de cada um desses repositórios"
      ],
      "metadata": {
        "id": "6nnuvJ5RP8Z1"
      }
    },
    {
      "cell_type": "code",
      "source": [],
      "metadata": {
        "id": "EenTsnKGP8aA"
      },
      "execution_count": 6,
      "outputs": []
    },
    {
      "cell_type": "markdown",
      "source": [
        "## RQ 06: Sistemas populares possuem um alto percentual de issues fechadas?\n",
        "### Métrica: Métrica: razão entre número de issues fechadas pelo total de issues)"
      ],
      "metadata": {
        "id": "eal-oKeTP8oa"
      }
    },
    {
      "cell_type": "markdown",
      "source": [
        "# Lembrete @ Plabo @Charut"
      ],
      "metadata": {
        "id": "JH2T-Wa9jWi8"
      }
    },
    {
      "cell_type": "markdown",
      "source": [
        "### na query tem a gente ta pegando o updateAt mas isso só retorna a ultima atualização do github em cima do repositório, temos q ver onde busca a ultima atualização de commit, merge ou sla do repo"
      ],
      "metadata": {
        "id": "EDix-zApjeTj"
      }
    }
  ]
}